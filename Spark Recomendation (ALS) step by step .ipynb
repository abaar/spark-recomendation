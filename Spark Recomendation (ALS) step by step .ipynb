{
 "cells": [
  {
   "cell_type": "markdown",
   "metadata": {},
   "source": [
    "# Spark Recommendation"
   ]
  },
  {
   "cell_type": "markdown",
   "metadata": {},
   "source": [
    "## Dataset\n",
    "\n",
    "Dataset used : Amazon Kindle Store Reviews -170MB (http://jmcauley.ucsd.edu/data/amazon/)"
   ]
  },
  {
   "cell_type": "markdown",
   "metadata": {},
   "source": [
    "## Spark Init"
   ]
  },
  {
   "cell_type": "code",
   "execution_count": 1,
   "metadata": {},
   "outputs": [],
   "source": [
    "import findspark\n",
    "findspark.init()"
   ]
  },
  {
   "cell_type": "code",
   "execution_count": 2,
   "metadata": {},
   "outputs": [],
   "source": [
    "from pyspark.sql import SparkSession"
   ]
  },
  {
   "cell_type": "code",
   "execution_count": 3,
   "metadata": {},
   "outputs": [],
   "source": [
    "spark = SparkSession.builder.appName(\"simple recomendation\").config(\"spark.executor.memory\",\"8G\").config(\"spark.driver.memory\", \"8G\").getOrCreate()"
   ]
  },
  {
   "cell_type": "code",
   "execution_count": 4,
   "metadata": {},
   "outputs": [
    {
     "name": "stdout",
     "output_type": "stream",
     "text": [
      "<pyspark.sql.session.SparkSession object at 0x0000022B7FE8DA20>\n"
     ]
    }
   ],
   "source": [
    "print(spark)"
   ]
  },
  {
   "cell_type": "markdown",
   "metadata": {},
   "source": [
    "## Load Dataset"
   ]
  },
  {
   "cell_type": "code",
   "execution_count": 5,
   "metadata": {},
   "outputs": [],
   "source": [
    "#since the data has no header, let's define it here\n",
    "from pyspark.sql.types import StructType, StructField, IntegerType, StringType, DoubleType\n",
    "\n",
    "schemas = StructType([\n",
    "    StructField(\"user_id\", StringType(), True),\n",
    "    StructField(\"item_id\", StringType(), True),\n",
    "    StructField(\"rating\", DoubleType(), True),\n",
    "    StructField(\"timestamp\",IntegerType(),True)])"
   ]
  },
  {
   "cell_type": "code",
   "execution_count": 6,
   "metadata": {},
   "outputs": [],
   "source": [
    "df = spark.read.csv(\"D:\\Repos\\Resource\\Kindle-Store-Reviews\\kindle-store.csv\", header=False, schema=schemas)"
   ]
  },
  {
   "cell_type": "code",
   "execution_count": 7,
   "metadata": {},
   "outputs": [
    {
     "data": {
      "text/plain": [
       "StructType(List(StructField(user_id,StringType,true),StructField(item_id,StringType,true),StructField(rating,DoubleType,true),StructField(timestamp,IntegerType,true)))"
      ]
     },
     "execution_count": 7,
     "metadata": {},
     "output_type": "execute_result"
    }
   ],
   "source": [
    "df.schema"
   ]
  },
  {
   "cell_type": "code",
   "execution_count": 8,
   "metadata": {},
   "outputs": [
    {
     "data": {
      "text/plain": [
       "3205467"
      ]
     },
     "execution_count": 8,
     "metadata": {},
     "output_type": "execute_result"
    }
   ],
   "source": [
    "df.count()"
   ]
  },
  {
   "cell_type": "code",
   "execution_count": 9,
   "metadata": {},
   "outputs": [
    {
     "name": "stdout",
     "output_type": "stream",
     "text": [
      "+--------------+----------+------+----------+\n",
      "|       user_id|   item_id|rating| timestamp|\n",
      "+--------------+----------+------+----------+\n",
      "|A2GZ9GFZV1LWB0|1603420304|   4.0|1405209600|\n",
      "|A1K7VSUDCVAPW8|1603420304|   3.0|1282176000|\n",
      "|A35J5XRE5ZT6H2|1603420304|   4.0|1365206400|\n",
      "|A3DGZNFSMNWSX5|1603420304|   4.0|1285632000|\n",
      "|A2CVDQ6H36L4VL|1603420304|   5.0|1342396800|\n",
      "|A3U0EV8PXX6G2O|1603420304|   4.0|1383004800|\n",
      "|A18KZLAOO17CH7|1603420304|   5.0|1315958400|\n",
      "|A1RYEDOAVTVC97|1603420304|   4.0|1253491200|\n",
      "| AW4GYRDGPXSHC|1603420304|   5.0|1284336000|\n",
      "|A3RM23R5S3OBO5|1603420304|   5.0|1323216000|\n",
      "| A5T79U2IMPYTY|1603420304|   3.0|1367280000|\n",
      "|A109D193EJ98V2|1603420304|   5.0|1325808000|\n",
      "|A3VX4QRMRMG143|1603420304|   4.0|1370995200|\n",
      "|A3QAL688R9KZT4|1603420304|   5.0|1324512000|\n",
      "|A36TM5HAM32TMO|1603420304|   5.0|1320019200|\n",
      "| AL69F6UZDPHFZ|1603420304|   5.0|1381881600|\n",
      "|A2WOB3XO3160CX|1603420304|   4.0|1356912000|\n",
      "|A22ZT1X0VUYNIV|1603420304|   5.0|1281916800|\n",
      "| AQFYGWUOGWBXY|1603420304|   5.0|1356998400|\n",
      "|A22AWOXGDCF4KR|1603420304|   5.0|1391904000|\n",
      "+--------------+----------+------+----------+\n",
      "only showing top 20 rows\n",
      "\n"
     ]
    }
   ],
   "source": [
    "df.show()"
   ]
  },
  {
   "cell_type": "code",
   "execution_count": 10,
   "metadata": {},
   "outputs": [
    {
     "name": "stdout",
     "output_type": "stream",
     "text": [
      "+--------------+----------+------+----------+\n",
      "|       user_id|   item_id|rating| timestamp|\n",
      "+--------------+----------+------+----------+\n",
      "|A18KZLAOO17CH7|1603420304|   5.0|1315958400|\n",
      "|A18KZLAOO17CH7|B00BAVVC6O|   5.0|1371686400|\n",
      "|A18KZLAOO17CH7|B00F12H1IQ|   5.0|1388620800|\n",
      "|A18KZLAOO17CH7|B00F12H1MM|   5.0|1388620800|\n",
      "|A18KZLAOO17CH7|B00FHQI2KM|   5.0|1380931200|\n",
      "+--------------+----------+------+----------+\n",
      "\n"
     ]
    }
   ],
   "source": [
    "df.filter(df.user_id=='A18KZLAOO17CH7').show()"
   ]
  },
  {
   "cell_type": "markdown",
   "metadata": {},
   "source": [
    "## Creating Model"
   ]
  },
  {
   "cell_type": "code",
   "execution_count": 11,
   "metadata": {},
   "outputs": [],
   "source": [
    "from pyspark.ml.evaluation import RegressionEvaluator\n",
    "from pyspark.ml.recommendation import ALS"
   ]
  },
  {
   "cell_type": "code",
   "execution_count": 12,
   "metadata": {},
   "outputs": [],
   "source": [
    "# since user col need to be an int value, we need to change our 'string' ids to int\n",
    "from pyspark.ml.feature import IndexToString, StringIndexer"
   ]
  },
  {
   "cell_type": "code",
   "execution_count": 13,
   "metadata": {},
   "outputs": [],
   "source": [
    "# convert user_id (String) to Float by using StringIndexer\n",
    "stringindexer = StringIndexer(inputCol='user_id',outputCol='user_id_int')\n",
    "stringindexer.setHandleInvalid(\"keep\")\n",
    "model = stringindexer.fit(df)\n",
    "indexed = model.transform(df)"
   ]
  },
  {
   "cell_type": "code",
   "execution_count": 14,
   "metadata": {},
   "outputs": [],
   "source": [
    "# convert item_id (String) to Float by using StringIndexer\n",
    "stringindexer_item = StringIndexer(inputCol='item_id',outputCol='item_id_int')\n",
    "stringindexer_item.setHandleInvalid(\"keep\") \n",
    "model = stringindexer_item.fit(indexed)\n",
    "indexed = model.transform(indexed)"
   ]
  },
  {
   "cell_type": "code",
   "execution_count": 15,
   "metadata": {},
   "outputs": [
    {
     "name": "stdout",
     "output_type": "stream",
     "text": [
      "+--------------+----------+------+----------+-----------+-----------+\n",
      "|       user_id|   item_id|rating| timestamp|user_id_int|item_id_int|\n",
      "+--------------+----------+------+----------+-----------+-----------+\n",
      "|A2GZ9GFZV1LWB0|1603420304|   4.0|1405209600|  1397483.0|     4102.0|\n",
      "|A1K7VSUDCVAPW8|1603420304|   3.0|1282176000|  1360487.0|     4102.0|\n",
      "|A35J5XRE5ZT6H2|1603420304|   4.0|1365206400|  1016904.0|     4102.0|\n",
      "|A3DGZNFSMNWSX5|1603420304|   4.0|1285632000|   533144.0|     4102.0|\n",
      "|A2CVDQ6H36L4VL|1603420304|   5.0|1342396800|   997297.0|     4102.0|\n",
      "|A3U0EV8PXX6G2O|1603420304|   4.0|1383004800|   760453.0|     4102.0|\n",
      "|A18KZLAOO17CH7|1603420304|   5.0|1315958400|    77896.0|     4102.0|\n",
      "|A1RYEDOAVTVC97|1603420304|   4.0|1253491200|   669260.0|     4102.0|\n",
      "| AW4GYRDGPXSHC|1603420304|   5.0|1284336000|   436551.0|     4102.0|\n",
      "|A3RM23R5S3OBO5|1603420304|   5.0|1323216000|  1056593.0|     4102.0|\n",
      "| A5T79U2IMPYTY|1603420304|   3.0|1367280000|   472655.0|     4102.0|\n",
      "|A109D193EJ98V2|1603420304|   5.0|1325808000|   973527.0|     4102.0|\n",
      "|A3VX4QRMRMG143|1603420304|   4.0|1370995200|   294278.0|     4102.0|\n",
      "|A3QAL688R9KZT4|1603420304|   5.0|1324512000|   745518.0|     4102.0|\n",
      "|A36TM5HAM32TMO|1603420304|   5.0|1320019200|  1023660.0|     4102.0|\n",
      "| AL69F6UZDPHFZ|1603420304|   5.0|1381881600|   866793.0|     4102.0|\n",
      "|A2WOB3XO3160CX|1603420304|   4.0|1356912000|  1300219.0|     4102.0|\n",
      "|A22ZT1X0VUYNIV|1603420304|   5.0|1281916800|   995578.0|     4102.0|\n",
      "| AQFYGWUOGWBXY|1603420304|   5.0|1356998400|   481488.0|     4102.0|\n",
      "|A22AWOXGDCF4KR|1603420304|   5.0|1391904000|   758674.0|     4102.0|\n",
      "+--------------+----------+------+----------+-----------+-----------+\n",
      "only showing top 20 rows\n",
      "\n"
     ]
    }
   ],
   "source": [
    "indexed.show()"
   ]
  },
  {
   "cell_type": "code",
   "execution_count": 16,
   "metadata": {},
   "outputs": [
    {
     "name": "stdout",
     "output_type": "stream",
     "text": [
      "+--------------+----------+------+----------+-----------+-----------+\n",
      "|       user_id|   item_id|rating| timestamp|user_id_int|item_id_int|\n",
      "+--------------+----------+------+----------+-----------+-----------+\n",
      "|A18KZLAOO17CH7|1603420304|   5.0|1315958400|    77896.0|     4102.0|\n",
      "|A18KZLAOO17CH7|B00BAVVC6O|   5.0|1371686400|    77896.0|     5678.0|\n",
      "|A18KZLAOO17CH7|B00F12H1IQ|   5.0|1388620800|    77896.0|   193578.0|\n",
      "|A18KZLAOO17CH7|B00F12H1MM|   5.0|1388620800|    77896.0|   195243.0|\n",
      "|A18KZLAOO17CH7|B00FHQI2KM|   5.0|1380931200|    77896.0|     3415.0|\n",
      "+--------------+----------+------+----------+-----------+-----------+\n",
      "\n"
     ]
    }
   ],
   "source": [
    "indexed.filter(indexed.user_id_int==77896.0).show()"
   ]
  },
  {
   "cell_type": "code",
   "execution_count": 17,
   "metadata": {},
   "outputs": [
    {
     "name": "stdout",
     "output_type": "stream",
     "text": [
      "+--------------+----------+------+----------+-----------+-----------+\n",
      "|       user_id|   item_id|rating| timestamp|user_id_int|item_id_int|\n",
      "+--------------+----------+------+----------+-----------+-----------+\n",
      "|A18KZLAOO17CH7|1603420304|   5.0|1315958400|    77896.0|     4102.0|\n",
      "|A18KZLAOO17CH7|B00BAVVC6O|   5.0|1371686400|    77896.0|     5678.0|\n",
      "|A18KZLAOO17CH7|B00F12H1IQ|   5.0|1388620800|    77896.0|   193578.0|\n",
      "|A18KZLAOO17CH7|B00F12H1MM|   5.0|1388620800|    77896.0|   195243.0|\n",
      "|A18KZLAOO17CH7|B00FHQI2KM|   5.0|1380931200|    77896.0|     3415.0|\n",
      "+--------------+----------+------+----------+-----------+-----------+\n",
      "\n"
     ]
    }
   ],
   "source": [
    "indexed.filter(indexed.user_id=='A18KZLAOO17CH7').show()"
   ]
  },
  {
   "cell_type": "code",
   "execution_count": 18,
   "metadata": {},
   "outputs": [],
   "source": [
    "indexed = indexed.selectExpr(['user_id_int as uid','item_id_int as iid','rating as rating'])"
   ]
  },
  {
   "cell_type": "code",
   "execution_count": 19,
   "metadata": {},
   "outputs": [
    {
     "name": "stdout",
     "output_type": "stream",
     "text": [
      "+---------+------+------+\n",
      "|      uid|   iid|rating|\n",
      "+---------+------+------+\n",
      "|1397483.0|4102.0|   4.0|\n",
      "|1360487.0|4102.0|   3.0|\n",
      "+---------+------+------+\n",
      "only showing top 2 rows\n",
      "\n"
     ]
    }
   ],
   "source": [
    "indexed.show(2)"
   ]
  },
  {
   "cell_type": "code",
   "execution_count": 20,
   "metadata": {},
   "outputs": [],
   "source": [
    "# total 3205467 rows\n",
    "(training, test) = indexed.randomSplit([0.8, 0.2])"
   ]
  },
  {
   "cell_type": "code",
   "execution_count": 21,
   "metadata": {},
   "outputs": [],
   "source": [
    "# training\n",
    "als = ALS(maxIter=5, regParam=0.01, userCol=\"uid\", itemCol=\"iid\", ratingCol=\"rating\",\n",
    "          coldStartStrategy=\"drop\")\n",
    "model = als.fit(training)"
   ]
  },
  {
   "cell_type": "code",
   "execution_count": 22,
   "metadata": {},
   "outputs": [],
   "source": [
    "# Evaluate the model by computing the RMSE on the test data\n",
    "predictions = model.transform(test.select(['uid','iid','rating']))\n",
    "evaluator = RegressionEvaluator(metricName=\"rmse\", labelCol=\"rating\",\n",
    "                                predictionCol=\"prediction\")"
   ]
  },
  {
   "cell_type": "code",
   "execution_count": 23,
   "metadata": {},
   "outputs": [
    {
     "name": "stdout",
     "output_type": "stream",
     "text": [
      "+--------+-----+------+------------+\n",
      "|     uid|  iid|rating|  prediction|\n",
      "+--------+-----+------+------------+\n",
      "|144011.0|148.0|   2.0|   0.1391947|\n",
      "| 39621.0|148.0|   3.0|  0.19290876|\n",
      "|276947.0|148.0|   5.0| -0.09074353|\n",
      "| 10210.0|148.0|   2.0|  0.29808566|\n",
      "| 93572.0|148.0|   4.0| -0.43418026|\n",
      "|275605.0|148.0|   3.0|-0.105560526|\n",
      "| 69878.0|148.0|   2.0|  0.61052364|\n",
      "|210414.0|148.0|   5.0|  -0.5430999|\n",
      "|265943.0|148.0|   1.0|  -0.5144456|\n",
      "|327477.0|148.0|   5.0|  0.25743455|\n",
      "|129602.0|148.0|   3.0|   0.9436585|\n",
      "| 12199.0|148.0|   4.0|  -2.5957139|\n",
      "|226318.0|148.0|   5.0|  0.78879833|\n",
      "|377273.0|148.0|   2.0|  0.07713748|\n",
      "|299252.0|148.0|   4.0|  0.37340653|\n",
      "|226919.0|148.0|   1.0| -0.06115124|\n",
      "|186500.0|148.0|   4.0|   1.1710051|\n",
      "|348541.0|148.0|   4.0|  0.18466339|\n",
      "|305797.0|148.0|   3.0|-0.014746324|\n",
      "|281713.0|148.0|   1.0|    2.875606|\n",
      "+--------+-----+------+------------+\n",
      "only showing top 20 rows\n",
      "\n"
     ]
    }
   ],
   "source": [
    "predictions.show()"
   ]
  },
  {
   "cell_type": "code",
   "execution_count": 24,
   "metadata": {},
   "outputs": [
    {
     "name": "stdout",
     "output_type": "stream",
     "text": [
      "Root-mean-square error = 5.84537221194402\n"
     ]
    }
   ],
   "source": [
    "rmse = evaluator.evaluate(predictions)\n",
    "print(\"Root-mean-square error = \" + str(rmse))"
   ]
  },
  {
   "cell_type": "code",
   "execution_count": 25,
   "metadata": {},
   "outputs": [],
   "source": [
    "# Generate top 10 kindle recommendations for each user\n",
    "userRecs = model.recommendForAllUsers(10)\n",
    "# Generate top 10 user recommendations for each kindle\n",
    "kindleRecs = model.recommendForAllItems(10)"
   ]
  },
  {
   "cell_type": "code",
   "execution_count": 26,
   "metadata": {},
   "outputs": [
    {
     "name": "stdout",
     "output_type": "stream",
     "text": [
      "+----+--------------------+\n",
      "| uid|     recommendations|\n",
      "+----+--------------------+\n",
      "| 148|[[56765, 16.52278...|\n",
      "| 463|[[94913, 11.43423...|\n",
      "| 471|[[120684, 14.5425...|\n",
      "| 496|[[49901, 15.42053...|\n",
      "| 833|[[79767, 14.08148...|\n",
      "|1088|[[50654, 18.24583...|\n",
      "|1238|[[51039, 19.92655...|\n",
      "|1342|[[75118, 16.27201...|\n",
      "|1580|[[128666, 17.167]...|\n",
      "|1591|[[52704, 22.09821...|\n",
      "|1645|[[60021, 18.23156...|\n",
      "|1829|[[75544, 18.52557...|\n",
      "|1959|[[80190, 22.79922...|\n",
      "|2122|[[72421, 22.06683...|\n",
      "|2142|[[62463, 11.35798...|\n",
      "|2366|[[77577, 14.39145...|\n",
      "|2659|[[37696, 17.07533...|\n",
      "|2866|[[52881, 31.15724...|\n",
      "|3175|[[56425, 25.29191...|\n",
      "|3749|[[26374, 14.47831...|\n",
      "+----+--------------------+\n",
      "only showing top 20 rows\n",
      "\n"
     ]
    }
   ],
   "source": [
    "userRecs.show()"
   ]
  },
  {
   "cell_type": "code",
   "execution_count": 27,
   "metadata": {},
   "outputs": [
    {
     "name": "stdout",
     "output_type": "stream",
     "text": [
      "+----+--------------------+\n",
      "| iid|     recommendations|\n",
      "+----+--------------------+\n",
      "| 148|[[20306, 15.22369...|\n",
      "| 463|[[48859, 25.33829...|\n",
      "| 471|[[88895, 19.14617...|\n",
      "| 496|[[350625, 27.6201...|\n",
      "| 833|[[54895, 22.03339...|\n",
      "|1088|[[50558, 31.99250...|\n",
      "|1238|[[34092, 43.57119...|\n",
      "|1342|[[47408, 34.96792...|\n",
      "|1580|[[125090, 34.1654...|\n",
      "|1591|[[40294, 37.99627...|\n",
      "|1645|[[163099, 46.7077...|\n",
      "|1829|[[65620, 25.52935...|\n",
      "|1959|[[28731, 35.70830...|\n",
      "|2122|[[60187, 21.38083...|\n",
      "|2142|[[54735, 40.59636...|\n",
      "|2366|[[42712, 31.12254...|\n",
      "|2659|[[40294, 51.71845...|\n",
      "|2866|[[19133, 48.26461...|\n",
      "|3175|[[16528, 48.2196]...|\n",
      "|3749|[[163099, 35.6878...|\n",
      "+----+--------------------+\n",
      "only showing top 20 rows\n",
      "\n"
     ]
    }
   ],
   "source": [
    "kindleRecs.show()"
   ]
  }
 ],
 "metadata": {
  "kernelspec": {
   "display_name": "Python 3",
   "language": "python",
   "name": "python3"
  },
  "language_info": {
   "codemirror_mode": {
    "name": "ipython",
    "version": 3
   },
   "file_extension": ".py",
   "mimetype": "text/x-python",
   "name": "python",
   "nbconvert_exporter": "python",
   "pygments_lexer": "ipython3",
   "version": "3.7.2"
  }
 },
 "nbformat": 4,
 "nbformat_minor": 2
}
